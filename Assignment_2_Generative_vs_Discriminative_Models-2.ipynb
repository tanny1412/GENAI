{
  "nbformat": 4,
  "nbformat_minor": 0,
  "metadata": {
    "colab": {
      "provenance": []
    },
    "kernelspec": {
      "name": "python3",
      "display_name": "Python 3"
    },
    "language_info": {
      "name": "python"
    }
  },
  "cells": [
    {
      "cell_type": "markdown",
      "source": [
        "# 1. Import Necessary Libraries"
      ],
      "metadata": {
        "id": "musO6ZwNYuQC"
      }
    },
    {
      "cell_type": "code",
      "source": [
        "import pandas as pd\n",
        "import numpy as np\n",
        "import matplotlib.pyplot as plt\n",
        "from sklearn.model_selection import train_test_split\n",
        "from sklearn.naive_bayes import GaussianNB\n",
        "from sklearn.linear_model import LogisticRegression\n",
        "from sklearn.metrics import accuracy_score, roc_auc_score, roc_curve\n",
        "import seaborn as sns"
      ],
      "metadata": {
        "id": "g2VBpvjcXc9s"
      },
      "execution_count": 2,
      "outputs": []
    },
    {
      "cell_type": "markdown",
      "source": [
        "# 2. Load and Explore the Penguins Dataset"
      ],
      "metadata": {
        "id": "1XSRn8bpYzvn"
      }
    },
    {
      "cell_type": "code",
      "source": [
        "# Load the Penguins dataset from seaborn\n",
        "penguins = sns.load_dataset(\"penguins\")\n",
        "\n",
        "# Preview the data\n",
        "print(\"First few rows:\")\n",
        "print(penguins.head())\n",
        "\n",
        "# Drop rows with missing data (NaNs)\n",
        "penguins.dropna(inplace=True)\n",
        "\n",
        "# Focus on two species only: Adelie and Gentoo\n",
        "penguins = penguins[penguins['species'].isin(['Adelie','Gentoo'])]\n",
        "\n",
        "print(\"\\nDataset Preview (after filtering for Adelie/Gentoo):\")\n",
        "print(penguins.head())\n",
        "print(f\"\\nNumber of rows after filtering: {len(penguins)}\")"
      ],
      "metadata": {
        "colab": {
          "base_uri": "https://localhost:8080/"
        },
        "id": "P1feP_t6YxUz",
        "outputId": "5490567a-7871-45df-9fef-92637656b776"
      },
      "execution_count": 19,
      "outputs": [
        {
          "output_type": "stream",
          "name": "stdout",
          "text": [
            "First few rows:\n",
            "  species     island  bill_length_mm  bill_depth_mm  flipper_length_mm  \\\n",
            "0  Adelie  Torgersen            39.1           18.7              181.0   \n",
            "1  Adelie  Torgersen            39.5           17.4              186.0   \n",
            "2  Adelie  Torgersen            40.3           18.0              195.0   \n",
            "3  Adelie  Torgersen             NaN            NaN                NaN   \n",
            "4  Adelie  Torgersen            36.7           19.3              193.0   \n",
            "\n",
            "   body_mass_g     sex  \n",
            "0       3750.0    Male  \n",
            "1       3800.0  Female  \n",
            "2       3250.0  Female  \n",
            "3          NaN     NaN  \n",
            "4       3450.0  Female  \n",
            "\n",
            "Dataset Preview (after filtering for Adelie/Gentoo):\n",
            "  species     island  bill_length_mm  bill_depth_mm  flipper_length_mm  \\\n",
            "0  Adelie  Torgersen            39.1           18.7              181.0   \n",
            "1  Adelie  Torgersen            39.5           17.4              186.0   \n",
            "2  Adelie  Torgersen            40.3           18.0              195.0   \n",
            "4  Adelie  Torgersen            36.7           19.3              193.0   \n",
            "5  Adelie  Torgersen            39.3           20.6              190.0   \n",
            "\n",
            "   body_mass_g     sex  \n",
            "0       3750.0    Male  \n",
            "1       3800.0  Female  \n",
            "2       3250.0  Female  \n",
            "4       3450.0  Female  \n",
            "5       3650.0    Male  \n",
            "\n",
            "Number of rows after filtering: 265\n"
          ]
        }
      ]
    },
    {
      "cell_type": "markdown",
      "source": [
        "# 3. Data Preprocessing"
      ],
      "metadata": {
        "id": "sdyvDzzsY6eF"
      }
    },
    {
      "cell_type": "code",
      "source": [
        "# We'll use the following numeric features for classification:\n",
        "features = ['bill_length_mm','bill_depth_mm','flipper_length_mm','body_mass_g']\n",
        "X = penguins[features]\n",
        "\n",
        "# Our target will be species: map to binary (0 = Adelie, 1 = Gentoo)\n",
        "y = penguins['species'].map({'Adelie':0, 'Gentoo':1})"
      ],
      "metadata": {
        "id": "-50oPlsMY3q_"
      },
      "execution_count": 4,
      "outputs": []
    },
    {
      "cell_type": "markdown",
      "source": [
        "# 4. Train/Test Split"
      ],
      "metadata": {
        "id": "pQL-dG-lZHOs"
      }
    },
    {
      "cell_type": "code",
      "source": [
        "X_train, X_test, y_train, y_test = train_test_split(\n",
        "    X, y, test_size=0.3, random_state=42, stratify=y\n",
        ")\n",
        "\n",
        "print(\"\\nTraining set size:\", X_train.shape)\n",
        "print(\"Test set size:\", X_test.shape)"
      ],
      "metadata": {
        "colab": {
          "base_uri": "https://localhost:8080/"
        },
        "id": "pGrNNuJRZEfC",
        "outputId": "6f0fc5f5-69c0-4266-e87f-1be0fb2d4625"
      },
      "execution_count": 5,
      "outputs": [
        {
          "output_type": "stream",
          "name": "stdout",
          "text": [
            "\n",
            "Training set size: (185, 4)\n",
            "Test set size: (80, 4)\n"
          ]
        }
      ]
    },
    {
      "cell_type": "markdown",
      "source": [
        "# 5. Model Training"
      ],
      "metadata": {
        "id": "1VT9yON8ZL5x"
      }
    },
    {
      "cell_type": "code",
      "source": [
        "# 5a. Naive Bayes (Generative Model)\n",
        "nb_model = GaussianNB()\n",
        "nb_model.fit(X_train, y_train)\n",
        "\n",
        "# 5b. Logistic Regression (Discriminative Model)\n",
        "lr_model = LogisticRegression(max_iter=1000)\n",
        "lr_model.fit(X_train, y_train)"
      ],
      "metadata": {
        "colab": {
          "base_uri": "https://localhost:8080/",
          "height": 81
        },
        "id": "9jF6UC8iZJu2",
        "outputId": "96a3a6dd-2a3c-4523-cdb6-5fea243719a4"
      },
      "execution_count": 6,
      "outputs": [
        {
          "output_type": "execute_result",
          "data": {
            "text/plain": [
              "LogisticRegression(max_iter=1000)"
            ],
            "text/html": [
              "<style>#sk-container-id-1 {\n",
              "  /* Definition of color scheme common for light and dark mode */\n",
              "  --sklearn-color-text: #000;\n",
              "  --sklearn-color-text-muted: #666;\n",
              "  --sklearn-color-line: gray;\n",
              "  /* Definition of color scheme for unfitted estimators */\n",
              "  --sklearn-color-unfitted-level-0: #fff5e6;\n",
              "  --sklearn-color-unfitted-level-1: #f6e4d2;\n",
              "  --sklearn-color-unfitted-level-2: #ffe0b3;\n",
              "  --sklearn-color-unfitted-level-3: chocolate;\n",
              "  /* Definition of color scheme for fitted estimators */\n",
              "  --sklearn-color-fitted-level-0: #f0f8ff;\n",
              "  --sklearn-color-fitted-level-1: #d4ebff;\n",
              "  --sklearn-color-fitted-level-2: #b3dbfd;\n",
              "  --sklearn-color-fitted-level-3: cornflowerblue;\n",
              "\n",
              "  /* Specific color for light theme */\n",
              "  --sklearn-color-text-on-default-background: var(--sg-text-color, var(--theme-code-foreground, var(--jp-content-font-color1, black)));\n",
              "  --sklearn-color-background: var(--sg-background-color, var(--theme-background, var(--jp-layout-color0, white)));\n",
              "  --sklearn-color-border-box: var(--sg-text-color, var(--theme-code-foreground, var(--jp-content-font-color1, black)));\n",
              "  --sklearn-color-icon: #696969;\n",
              "\n",
              "  @media (prefers-color-scheme: dark) {\n",
              "    /* Redefinition of color scheme for dark theme */\n",
              "    --sklearn-color-text-on-default-background: var(--sg-text-color, var(--theme-code-foreground, var(--jp-content-font-color1, white)));\n",
              "    --sklearn-color-background: var(--sg-background-color, var(--theme-background, var(--jp-layout-color0, #111)));\n",
              "    --sklearn-color-border-box: var(--sg-text-color, var(--theme-code-foreground, var(--jp-content-font-color1, white)));\n",
              "    --sklearn-color-icon: #878787;\n",
              "  }\n",
              "}\n",
              "\n",
              "#sk-container-id-1 {\n",
              "  color: var(--sklearn-color-text);\n",
              "}\n",
              "\n",
              "#sk-container-id-1 pre {\n",
              "  padding: 0;\n",
              "}\n",
              "\n",
              "#sk-container-id-1 input.sk-hidden--visually {\n",
              "  border: 0;\n",
              "  clip: rect(1px 1px 1px 1px);\n",
              "  clip: rect(1px, 1px, 1px, 1px);\n",
              "  height: 1px;\n",
              "  margin: -1px;\n",
              "  overflow: hidden;\n",
              "  padding: 0;\n",
              "  position: absolute;\n",
              "  width: 1px;\n",
              "}\n",
              "\n",
              "#sk-container-id-1 div.sk-dashed-wrapped {\n",
              "  border: 1px dashed var(--sklearn-color-line);\n",
              "  margin: 0 0.4em 0.5em 0.4em;\n",
              "  box-sizing: border-box;\n",
              "  padding-bottom: 0.4em;\n",
              "  background-color: var(--sklearn-color-background);\n",
              "}\n",
              "\n",
              "#sk-container-id-1 div.sk-container {\n",
              "  /* jupyter's `normalize.less` sets `[hidden] { display: none; }`\n",
              "     but bootstrap.min.css set `[hidden] { display: none !important; }`\n",
              "     so we also need the `!important` here to be able to override the\n",
              "     default hidden behavior on the sphinx rendered scikit-learn.org.\n",
              "     See: https://github.com/scikit-learn/scikit-learn/issues/21755 */\n",
              "  display: inline-block !important;\n",
              "  position: relative;\n",
              "}\n",
              "\n",
              "#sk-container-id-1 div.sk-text-repr-fallback {\n",
              "  display: none;\n",
              "}\n",
              "\n",
              "div.sk-parallel-item,\n",
              "div.sk-serial,\n",
              "div.sk-item {\n",
              "  /* draw centered vertical line to link estimators */\n",
              "  background-image: linear-gradient(var(--sklearn-color-text-on-default-background), var(--sklearn-color-text-on-default-background));\n",
              "  background-size: 2px 100%;\n",
              "  background-repeat: no-repeat;\n",
              "  background-position: center center;\n",
              "}\n",
              "\n",
              "/* Parallel-specific style estimator block */\n",
              "\n",
              "#sk-container-id-1 div.sk-parallel-item::after {\n",
              "  content: \"\";\n",
              "  width: 100%;\n",
              "  border-bottom: 2px solid var(--sklearn-color-text-on-default-background);\n",
              "  flex-grow: 1;\n",
              "}\n",
              "\n",
              "#sk-container-id-1 div.sk-parallel {\n",
              "  display: flex;\n",
              "  align-items: stretch;\n",
              "  justify-content: center;\n",
              "  background-color: var(--sklearn-color-background);\n",
              "  position: relative;\n",
              "}\n",
              "\n",
              "#sk-container-id-1 div.sk-parallel-item {\n",
              "  display: flex;\n",
              "  flex-direction: column;\n",
              "}\n",
              "\n",
              "#sk-container-id-1 div.sk-parallel-item:first-child::after {\n",
              "  align-self: flex-end;\n",
              "  width: 50%;\n",
              "}\n",
              "\n",
              "#sk-container-id-1 div.sk-parallel-item:last-child::after {\n",
              "  align-self: flex-start;\n",
              "  width: 50%;\n",
              "}\n",
              "\n",
              "#sk-container-id-1 div.sk-parallel-item:only-child::after {\n",
              "  width: 0;\n",
              "}\n",
              "\n",
              "/* Serial-specific style estimator block */\n",
              "\n",
              "#sk-container-id-1 div.sk-serial {\n",
              "  display: flex;\n",
              "  flex-direction: column;\n",
              "  align-items: center;\n",
              "  background-color: var(--sklearn-color-background);\n",
              "  padding-right: 1em;\n",
              "  padding-left: 1em;\n",
              "}\n",
              "\n",
              "\n",
              "/* Toggleable style: style used for estimator/Pipeline/ColumnTransformer box that is\n",
              "clickable and can be expanded/collapsed.\n",
              "- Pipeline and ColumnTransformer use this feature and define the default style\n",
              "- Estimators will overwrite some part of the style using the `sk-estimator` class\n",
              "*/\n",
              "\n",
              "/* Pipeline and ColumnTransformer style (default) */\n",
              "\n",
              "#sk-container-id-1 div.sk-toggleable {\n",
              "  /* Default theme specific background. It is overwritten whether we have a\n",
              "  specific estimator or a Pipeline/ColumnTransformer */\n",
              "  background-color: var(--sklearn-color-background);\n",
              "}\n",
              "\n",
              "/* Toggleable label */\n",
              "#sk-container-id-1 label.sk-toggleable__label {\n",
              "  cursor: pointer;\n",
              "  display: flex;\n",
              "  width: 100%;\n",
              "  margin-bottom: 0;\n",
              "  padding: 0.5em;\n",
              "  box-sizing: border-box;\n",
              "  text-align: center;\n",
              "  align-items: start;\n",
              "  justify-content: space-between;\n",
              "  gap: 0.5em;\n",
              "}\n",
              "\n",
              "#sk-container-id-1 label.sk-toggleable__label .caption {\n",
              "  font-size: 0.6rem;\n",
              "  font-weight: lighter;\n",
              "  color: var(--sklearn-color-text-muted);\n",
              "}\n",
              "\n",
              "#sk-container-id-1 label.sk-toggleable__label-arrow:before {\n",
              "  /* Arrow on the left of the label */\n",
              "  content: \"▸\";\n",
              "  float: left;\n",
              "  margin-right: 0.25em;\n",
              "  color: var(--sklearn-color-icon);\n",
              "}\n",
              "\n",
              "#sk-container-id-1 label.sk-toggleable__label-arrow:hover:before {\n",
              "  color: var(--sklearn-color-text);\n",
              "}\n",
              "\n",
              "/* Toggleable content - dropdown */\n",
              "\n",
              "#sk-container-id-1 div.sk-toggleable__content {\n",
              "  max-height: 0;\n",
              "  max-width: 0;\n",
              "  overflow: hidden;\n",
              "  text-align: left;\n",
              "  /* unfitted */\n",
              "  background-color: var(--sklearn-color-unfitted-level-0);\n",
              "}\n",
              "\n",
              "#sk-container-id-1 div.sk-toggleable__content.fitted {\n",
              "  /* fitted */\n",
              "  background-color: var(--sklearn-color-fitted-level-0);\n",
              "}\n",
              "\n",
              "#sk-container-id-1 div.sk-toggleable__content pre {\n",
              "  margin: 0.2em;\n",
              "  border-radius: 0.25em;\n",
              "  color: var(--sklearn-color-text);\n",
              "  /* unfitted */\n",
              "  background-color: var(--sklearn-color-unfitted-level-0);\n",
              "}\n",
              "\n",
              "#sk-container-id-1 div.sk-toggleable__content.fitted pre {\n",
              "  /* unfitted */\n",
              "  background-color: var(--sklearn-color-fitted-level-0);\n",
              "}\n",
              "\n",
              "#sk-container-id-1 input.sk-toggleable__control:checked~div.sk-toggleable__content {\n",
              "  /* Expand drop-down */\n",
              "  max-height: 200px;\n",
              "  max-width: 100%;\n",
              "  overflow: auto;\n",
              "}\n",
              "\n",
              "#sk-container-id-1 input.sk-toggleable__control:checked~label.sk-toggleable__label-arrow:before {\n",
              "  content: \"▾\";\n",
              "}\n",
              "\n",
              "/* Pipeline/ColumnTransformer-specific style */\n",
              "\n",
              "#sk-container-id-1 div.sk-label input.sk-toggleable__control:checked~label.sk-toggleable__label {\n",
              "  color: var(--sklearn-color-text);\n",
              "  background-color: var(--sklearn-color-unfitted-level-2);\n",
              "}\n",
              "\n",
              "#sk-container-id-1 div.sk-label.fitted input.sk-toggleable__control:checked~label.sk-toggleable__label {\n",
              "  background-color: var(--sklearn-color-fitted-level-2);\n",
              "}\n",
              "\n",
              "/* Estimator-specific style */\n",
              "\n",
              "/* Colorize estimator box */\n",
              "#sk-container-id-1 div.sk-estimator input.sk-toggleable__control:checked~label.sk-toggleable__label {\n",
              "  /* unfitted */\n",
              "  background-color: var(--sklearn-color-unfitted-level-2);\n",
              "}\n",
              "\n",
              "#sk-container-id-1 div.sk-estimator.fitted input.sk-toggleable__control:checked~label.sk-toggleable__label {\n",
              "  /* fitted */\n",
              "  background-color: var(--sklearn-color-fitted-level-2);\n",
              "}\n",
              "\n",
              "#sk-container-id-1 div.sk-label label.sk-toggleable__label,\n",
              "#sk-container-id-1 div.sk-label label {\n",
              "  /* The background is the default theme color */\n",
              "  color: var(--sklearn-color-text-on-default-background);\n",
              "}\n",
              "\n",
              "/* On hover, darken the color of the background */\n",
              "#sk-container-id-1 div.sk-label:hover label.sk-toggleable__label {\n",
              "  color: var(--sklearn-color-text);\n",
              "  background-color: var(--sklearn-color-unfitted-level-2);\n",
              "}\n",
              "\n",
              "/* Label box, darken color on hover, fitted */\n",
              "#sk-container-id-1 div.sk-label.fitted:hover label.sk-toggleable__label.fitted {\n",
              "  color: var(--sklearn-color-text);\n",
              "  background-color: var(--sklearn-color-fitted-level-2);\n",
              "}\n",
              "\n",
              "/* Estimator label */\n",
              "\n",
              "#sk-container-id-1 div.sk-label label {\n",
              "  font-family: monospace;\n",
              "  font-weight: bold;\n",
              "  display: inline-block;\n",
              "  line-height: 1.2em;\n",
              "}\n",
              "\n",
              "#sk-container-id-1 div.sk-label-container {\n",
              "  text-align: center;\n",
              "}\n",
              "\n",
              "/* Estimator-specific */\n",
              "#sk-container-id-1 div.sk-estimator {\n",
              "  font-family: monospace;\n",
              "  border: 1px dotted var(--sklearn-color-border-box);\n",
              "  border-radius: 0.25em;\n",
              "  box-sizing: border-box;\n",
              "  margin-bottom: 0.5em;\n",
              "  /* unfitted */\n",
              "  background-color: var(--sklearn-color-unfitted-level-0);\n",
              "}\n",
              "\n",
              "#sk-container-id-1 div.sk-estimator.fitted {\n",
              "  /* fitted */\n",
              "  background-color: var(--sklearn-color-fitted-level-0);\n",
              "}\n",
              "\n",
              "/* on hover */\n",
              "#sk-container-id-1 div.sk-estimator:hover {\n",
              "  /* unfitted */\n",
              "  background-color: var(--sklearn-color-unfitted-level-2);\n",
              "}\n",
              "\n",
              "#sk-container-id-1 div.sk-estimator.fitted:hover {\n",
              "  /* fitted */\n",
              "  background-color: var(--sklearn-color-fitted-level-2);\n",
              "}\n",
              "\n",
              "/* Specification for estimator info (e.g. \"i\" and \"?\") */\n",
              "\n",
              "/* Common style for \"i\" and \"?\" */\n",
              "\n",
              ".sk-estimator-doc-link,\n",
              "a:link.sk-estimator-doc-link,\n",
              "a:visited.sk-estimator-doc-link {\n",
              "  float: right;\n",
              "  font-size: smaller;\n",
              "  line-height: 1em;\n",
              "  font-family: monospace;\n",
              "  background-color: var(--sklearn-color-background);\n",
              "  border-radius: 1em;\n",
              "  height: 1em;\n",
              "  width: 1em;\n",
              "  text-decoration: none !important;\n",
              "  margin-left: 0.5em;\n",
              "  text-align: center;\n",
              "  /* unfitted */\n",
              "  border: var(--sklearn-color-unfitted-level-1) 1pt solid;\n",
              "  color: var(--sklearn-color-unfitted-level-1);\n",
              "}\n",
              "\n",
              ".sk-estimator-doc-link.fitted,\n",
              "a:link.sk-estimator-doc-link.fitted,\n",
              "a:visited.sk-estimator-doc-link.fitted {\n",
              "  /* fitted */\n",
              "  border: var(--sklearn-color-fitted-level-1) 1pt solid;\n",
              "  color: var(--sklearn-color-fitted-level-1);\n",
              "}\n",
              "\n",
              "/* On hover */\n",
              "div.sk-estimator:hover .sk-estimator-doc-link:hover,\n",
              ".sk-estimator-doc-link:hover,\n",
              "div.sk-label-container:hover .sk-estimator-doc-link:hover,\n",
              ".sk-estimator-doc-link:hover {\n",
              "  /* unfitted */\n",
              "  background-color: var(--sklearn-color-unfitted-level-3);\n",
              "  color: var(--sklearn-color-background);\n",
              "  text-decoration: none;\n",
              "}\n",
              "\n",
              "div.sk-estimator.fitted:hover .sk-estimator-doc-link.fitted:hover,\n",
              ".sk-estimator-doc-link.fitted:hover,\n",
              "div.sk-label-container:hover .sk-estimator-doc-link.fitted:hover,\n",
              ".sk-estimator-doc-link.fitted:hover {\n",
              "  /* fitted */\n",
              "  background-color: var(--sklearn-color-fitted-level-3);\n",
              "  color: var(--sklearn-color-background);\n",
              "  text-decoration: none;\n",
              "}\n",
              "\n",
              "/* Span, style for the box shown on hovering the info icon */\n",
              ".sk-estimator-doc-link span {\n",
              "  display: none;\n",
              "  z-index: 9999;\n",
              "  position: relative;\n",
              "  font-weight: normal;\n",
              "  right: .2ex;\n",
              "  padding: .5ex;\n",
              "  margin: .5ex;\n",
              "  width: min-content;\n",
              "  min-width: 20ex;\n",
              "  max-width: 50ex;\n",
              "  color: var(--sklearn-color-text);\n",
              "  box-shadow: 2pt 2pt 4pt #999;\n",
              "  /* unfitted */\n",
              "  background: var(--sklearn-color-unfitted-level-0);\n",
              "  border: .5pt solid var(--sklearn-color-unfitted-level-3);\n",
              "}\n",
              "\n",
              ".sk-estimator-doc-link.fitted span {\n",
              "  /* fitted */\n",
              "  background: var(--sklearn-color-fitted-level-0);\n",
              "  border: var(--sklearn-color-fitted-level-3);\n",
              "}\n",
              "\n",
              ".sk-estimator-doc-link:hover span {\n",
              "  display: block;\n",
              "}\n",
              "\n",
              "/* \"?\"-specific style due to the `<a>` HTML tag */\n",
              "\n",
              "#sk-container-id-1 a.estimator_doc_link {\n",
              "  float: right;\n",
              "  font-size: 1rem;\n",
              "  line-height: 1em;\n",
              "  font-family: monospace;\n",
              "  background-color: var(--sklearn-color-background);\n",
              "  border-radius: 1rem;\n",
              "  height: 1rem;\n",
              "  width: 1rem;\n",
              "  text-decoration: none;\n",
              "  /* unfitted */\n",
              "  color: var(--sklearn-color-unfitted-level-1);\n",
              "  border: var(--sklearn-color-unfitted-level-1) 1pt solid;\n",
              "}\n",
              "\n",
              "#sk-container-id-1 a.estimator_doc_link.fitted {\n",
              "  /* fitted */\n",
              "  border: var(--sklearn-color-fitted-level-1) 1pt solid;\n",
              "  color: var(--sklearn-color-fitted-level-1);\n",
              "}\n",
              "\n",
              "/* On hover */\n",
              "#sk-container-id-1 a.estimator_doc_link:hover {\n",
              "  /* unfitted */\n",
              "  background-color: var(--sklearn-color-unfitted-level-3);\n",
              "  color: var(--sklearn-color-background);\n",
              "  text-decoration: none;\n",
              "}\n",
              "\n",
              "#sk-container-id-1 a.estimator_doc_link.fitted:hover {\n",
              "  /* fitted */\n",
              "  background-color: var(--sklearn-color-fitted-level-3);\n",
              "}\n",
              "</style><div id=\"sk-container-id-1\" class=\"sk-top-container\"><div class=\"sk-text-repr-fallback\"><pre>LogisticRegression(max_iter=1000)</pre><b>In a Jupyter environment, please rerun this cell to show the HTML representation or trust the notebook. <br />On GitHub, the HTML representation is unable to render, please try loading this page with nbviewer.org.</b></div><div class=\"sk-container\" hidden><div class=\"sk-item\"><div class=\"sk-estimator fitted sk-toggleable\"><input class=\"sk-toggleable__control sk-hidden--visually\" id=\"sk-estimator-id-1\" type=\"checkbox\" checked><label for=\"sk-estimator-id-1\" class=\"sk-toggleable__label fitted sk-toggleable__label-arrow\"><div><div>LogisticRegression</div></div><div><a class=\"sk-estimator-doc-link fitted\" rel=\"noreferrer\" target=\"_blank\" href=\"https://scikit-learn.org/1.6/modules/generated/sklearn.linear_model.LogisticRegression.html\">?<span>Documentation for LogisticRegression</span></a><span class=\"sk-estimator-doc-link fitted\">i<span>Fitted</span></span></div></label><div class=\"sk-toggleable__content fitted\"><pre>LogisticRegression(max_iter=1000)</pre></div> </div></div></div></div>"
            ]
          },
          "metadata": {},
          "execution_count": 6
        }
      ]
    },
    {
      "cell_type": "markdown",
      "source": [
        "# 6. Predictions and Performance Metrics"
      ],
      "metadata": {
        "id": "th9cHAARZSnp"
      }
    },
    {
      "cell_type": "code",
      "source": [
        "# Predictions & probabilities on training data\n",
        "nb_train_preds  = nb_model.predict(X_train)\n",
        "lr_train_preds  = lr_model.predict(X_train)\n",
        "\n",
        "nb_train_probs  = nb_model.predict_proba(X_train)[:,1]\n",
        "lr_train_probs  = lr_model.predict_proba(X_train)[:,1]\n",
        "\n",
        "# Predictions & probabilities on test data\n",
        "nb_test_preds   = nb_model.predict(X_test)\n",
        "lr_test_preds   = lr_model.predict(X_test)\n",
        "\n",
        "nb_test_probs   = nb_model.predict_proba(X_test)[:,1]\n",
        "lr_test_probs   = lr_model.predict_proba(X_test)[:,1]"
      ],
      "metadata": {
        "id": "x34xUmzHZPOo"
      },
      "execution_count": 7,
      "outputs": []
    },
    {
      "cell_type": "markdown",
      "source": [
        "# 7. Accuracy Comparison"
      ],
      "metadata": {
        "id": "GuNPX9qzZaND"
      }
    },
    {
      "cell_type": "code",
      "source": [
        "nb_train_acc = accuracy_score(y_train, nb_train_preds)\n",
        "nb_test_acc  = accuracy_score(y_test, nb_test_preds)\n",
        "\n",
        "lr_train_acc = accuracy_score(y_train, lr_train_preds)\n",
        "lr_test_acc  = accuracy_score(y_test, lr_test_preds)\n",
        "\n",
        "print(\"\\n=== Accuracy Scores ===\")\n",
        "print(f\"Naive Bayes - Training Accuracy: {nb_train_acc:.3f}\")\n",
        "print(f\"Naive Bayes - Test Accuracy:     {nb_test_acc:.3f}\")\n",
        "print(f\"Logistic Reg - Training Accuracy: {lr_train_acc:.3f}\")\n",
        "print(f\"Logistic Reg - Test Accuracy:     {lr_test_acc:.3f}\")"
      ],
      "metadata": {
        "colab": {
          "base_uri": "https://localhost:8080/"
        },
        "id": "No2EUG5jZXhj",
        "outputId": "f36321a7-4210-4eaa-f50a-ff71985239ee"
      },
      "execution_count": 8,
      "outputs": [
        {
          "output_type": "stream",
          "name": "stdout",
          "text": [
            "\n",
            "=== Accuracy Scores ===\n",
            "Naive Bayes - Training Accuracy: 1.000\n",
            "Naive Bayes - Test Accuracy:     1.000\n",
            "Logistic Reg - Training Accuracy: 1.000\n",
            "Logistic Reg - Test Accuracy:     1.000\n"
          ]
        }
      ]
    },
    {
      "cell_type": "markdown",
      "source": [
        "# 8. AUC (Area Under the ROC Curve) Comparison"
      ],
      "metadata": {
        "id": "Nf5BbiUHZg1P"
      }
    },
    {
      "cell_type": "code",
      "source": [
        "nb_train_auc = roc_auc_score(y_train, nb_train_probs)\n",
        "nb_test_auc  = roc_auc_score(y_test, nb_test_probs)\n",
        "\n",
        "lr_train_auc = roc_auc_score(y_train, lr_train_probs)\n",
        "lr_test_auc  = roc_auc_score(y_test, lr_test_probs)\n",
        "\n",
        "print(\"\\n=== AUC Scores ===\")\n",
        "print(f\"Naive Bayes - Training AUC: {nb_train_auc:.3f}\")\n",
        "print(f\"Naive Bayes - Test AUC:     {nb_test_auc:.3f}\")\n",
        "print(f\"Logistic Reg - Training AUC: {lr_train_auc:.3f}\")\n",
        "print(f\"Logistic Reg - Test AUC:     {lr_test_auc:.3f}\")"
      ],
      "metadata": {
        "colab": {
          "base_uri": "https://localhost:8080/"
        },
        "id": "xAGKFOwRZeFF",
        "outputId": "bb41c6b1-46cb-4d17-c529-223250305bf4"
      },
      "execution_count": 9,
      "outputs": [
        {
          "output_type": "stream",
          "name": "stdout",
          "text": [
            "\n",
            "=== AUC Scores ===\n",
            "Naive Bayes - Training AUC: 1.000\n",
            "Naive Bayes - Test AUC:     1.000\n",
            "Logistic Reg - Training AUC: 1.000\n",
            "Logistic Reg - Test AUC:     1.000\n"
          ]
        }
      ]
    },
    {
      "cell_type": "markdown",
      "source": [
        "\n"
      ],
      "metadata": {
        "id": "wF-4kocqfz86"
      }
    },
    {
      "cell_type": "markdown",
      "source": [
        "# 9. Lift and Gain Charts"
      ],
      "metadata": {
        "id": "vtQpybAAZpbv"
      }
    },
    {
      "cell_type": "code",
      "source": [
        "def calculate_lift_gain(y_true, y_prob, n_deciles=10):\n",
        "    \"\"\"\n",
        "    Given true labels (y_true) and predicted probabilities (y_prob),\n",
        "    this function returns a DataFrame containing deciles, the fraction\n",
        "    of total instances in each decile, the fraction of positives in each\n",
        "    decile, cumulative gain, lift, etc.\n",
        "    \"\"\"\n",
        "    # Create a temporary dataframe for sorting and grouping\n",
        "    temp_df = pd.DataFrame({'y_true':y_true, 'y_prob':y_prob})\n",
        "    # Sort by predicted probability descending\n",
        "    temp_df.sort_values('y_prob', ascending=False, inplace=True)\n",
        "    temp_df.reset_index(drop=True, inplace=True)\n",
        "\n",
        "    # Assign deciles\n",
        "    temp_df['decile'] = pd.qcut(temp_df['y_prob'], q=n_deciles, labels=False, duplicates='drop')\n",
        "    temp_df['decile'] = n_deciles - 1 - temp_df['decile']\n",
        "\n",
        "    # Count total positives\n",
        "    total_positives = temp_df['y_true'].sum()\n",
        "\n",
        "    # Group by deciles\n",
        "    grouped = temp_df.groupby('decile', as_index=False).agg({\n",
        "        'y_true': ['sum','count']\n",
        "    })\n",
        "    grouped.columns = ['decile', 'positives', 'count']\n",
        "    grouped.sort_values('decile', inplace=True)\n",
        "\n",
        "    # Calculate fraction of positives in each decile\n",
        "    grouped['perc_positives'] = grouped['positives'] / total_positives\n",
        "\n",
        "    # Cumulative gain = cumulative fraction of total positives up to that decile\n",
        "    grouped['cumulative_gain'] = grouped['perc_positives'].cumsum()\n",
        "\n",
        "    # Lift = ratio of the fraction of positives in that decile\n",
        "    # to the average fraction of positives in the entire dataset\n",
        "    total_population = len(y_true)\n",
        "    overall_positive_rate = total_positives / total_population\n",
        "    grouped['lift'] = (grouped['positives'] / grouped['count']) / overall_positive_rate\n",
        "\n",
        "    return grouped\n",
        "\n",
        "def plot_lift_gain(df, model_name):\n",
        "    \"\"\"\n",
        "    Plot Lift and Gain on dual y-axis with deciles on the x-axis.\n",
        "    df must be the output from the 'calculate_lift_gain' function.\n",
        "    \"\"\"\n",
        "    x = df['decile'] + 1\n",
        "\n",
        "    fig, ax1 = plt.subplots()\n",
        "    ax1.plot(x, df['lift'], marker='o')\n",
        "    ax1.set_xlabel('Decile')\n",
        "    ax1.set_ylabel('Lift')\n",
        "\n",
        "    ax2 = ax1.twinx()\n",
        "    ax2.plot(x, df['cumulative_gain'], marker='x')\n",
        "    ax2.set_ylabel('Cumulative Gain')\n",
        "\n",
        "    plt.title(f'Lift & Gain Chart - {model_name}')\n",
        "    plt.show()\n",
        "\n",
        "# Calculate Lift & Gain for NB (test set) & LR (test set)\n",
        "nb_lift_gain_df = calculate_lift_gain(y_test, nb_test_probs, n_deciles=10)\n",
        "lr_lift_gain_df = calculate_lift_gain(y_test, lr_test_probs, n_deciles=10)\n",
        "\n",
        "# Plot NB Lift/Gain\n",
        "plot_lift_gain(nb_lift_gain_df, 'Naive Bayes (Test Set)')\n",
        "\n",
        "# Plot LR Lift/Gain\n",
        "plot_lift_gain(lr_lift_gain_df, 'Logistic Regression (Test Set)')\n"
      ],
      "metadata": {
        "colab": {
          "base_uri": "https://localhost:8080/",
          "height": 926
        },
        "id": "-S-1qygqZlYc",
        "outputId": "576c4408-eadc-44eb-d2bb-6d0fe2b3aa0a"
      },
      "execution_count": 10,
      "outputs": [
        {
          "output_type": "display_data",
          "data": {
            "text/plain": [
              "<Figure size 640x480 with 2 Axes>"
            ],
            "image/png": "[encoded data removed]"
          },
          "metadata": {}
        },
        {
          "output_type": "display_data",
          "data": {
            "text/plain": [
              "<Figure size 640x480 with 2 Axes>"
            ],
            "image/png": "[encoded data removed]"
          },
          "metadata": {}
        }
      ]
    },
    {
      "cell_type": "markdown",
      "source": [
        "## Penguins Results & Observations\n",
        "\n",
        "- **Accuracy**: Both models show 100% accuracy on training and test sets, indicating perfect separability in these four numeric features for Adelie vs. Gentoo.\n",
        "- **AUC**: Also 1.0 for both models, reflecting perfect ranking of the two classes.\n",
        "- **Lift & Gain**:\n",
        "  - The very high lift in the first deciles means the model places almost all *Gentoo* instances at the top of the predicted probability range.\n",
        "  - Cumulative Gain rapidly reaches 100%, confirming perfect or near perfect ranking.\n",
        "\n",
        "**Why Perfect Separation?**\n",
        "Adelie and Gentoo are very distinct in flipper length, body mass, and bill measurements. Even a simple linear boundary or naive assumptions allow the models to classify them perfectly."
      ],
      "metadata": {
        "id": "I1HQzhshgB4C"
      }
    },
    {
      "cell_type": "markdown",
      "source": [
        "#MNIST Dataset"
      ],
      "metadata": {
        "id": "ifYXaqA5fCjt"
      }
    },
    {
      "cell_type": "code",
      "source": [
        "import numpy as np\n",
        "import pandas as pd\n",
        "import matplotlib.pyplot as plt\n",
        "\n",
        "from sklearn.model_selection import train_test_split\n",
        "from sklearn.preprocessing import StandardScaler\n",
        "from sklearn.naive_bayes import GaussianNB, MultinomialNB, BernoulliNB\n",
        "from sklearn.linear_model import LogisticRegression\n",
        "from sklearn.metrics import accuracy_score, roc_auc_score, classification_report\n",
        "\n",
        "# MNIST data from sklearn\n",
        "from sklearn.datasets import fetch_openml\n",
        "\n",
        "# 1a. Load the MNIST dataset\n",
        "mnist = fetch_openml('mnist_784', version=1)\n",
        "\n",
        "# Features: 70,000 x 784\n",
        "X = mnist.data\n",
        "# Targets: 70,000 labels in string form 0-9\n",
        "y = mnist.target.astype(np.int64)  # convert to int for classification\n"
      ],
      "metadata": {
        "id": "gyddJZWcZxIc"
      },
      "execution_count": 11,
      "outputs": []
    },
    {
      "cell_type": "code",
      "source": [
        "subset_size = 25000\n",
        "X_subset = X[:subset_size]\n",
        "y_subset = y[:subset_size]\n",
        "\n",
        "# Use a 80/20 train-test split within this subset\n",
        "X_train, X_test, y_train, y_test = train_test_split(\n",
        "    X_subset, y_subset, test_size=0.2, random_state=42, stratify=y_subset\n",
        ")\n",
        "\n",
        "print(\"Train set shape:\", X_train.shape)\n",
        "print(\"Test set shape:\", X_test.shape)"
      ],
      "metadata": {
        "colab": {
          "base_uri": "https://localhost:8080/"
        },
        "id": "ACIM0D73c0s-",
        "outputId": "c0911bc0-65d3-4b96-a7f2-a93136c072fd"
      },
      "execution_count": 12,
      "outputs": [
        {
          "output_type": "stream",
          "name": "stdout",
          "text": [
            "Train set shape: (20000, 784)\n",
            "Test set shape: (5000, 784)\n"
          ]
        }
      ]
    },
    {
      "cell_type": "code",
      "source": [
        "scaler = StandardScaler()\n",
        "X_train_scaled = scaler.fit_transform(X_train)\n",
        "X_test_scaled  = scaler.transform(X_test)"
      ],
      "metadata": {
        "id": "DB4Cx5HAc5og"
      },
      "execution_count": 13,
      "outputs": []
    },
    {
      "cell_type": "code",
      "source": [
        "lr = LogisticRegression(solver='lbfgs', max_iter=1000)\n",
        "lr.fit(X_train_scaled, y_train)\n",
        "\n",
        "lr_preds = lr.predict(X_test_scaled)\n",
        "lr_accuracy = accuracy_score(y_test, lr_preds)\n",
        "print(\"\\nLogistic Regression Accuracy:\", lr_accuracy)\n",
        "\n",
        "print(\"Classification Report (Logistic Regression):\")\n",
        "print(classification_report(y_test, lr_preds))\n"
      ],
      "metadata": {
        "colab": {
          "base_uri": "https://localhost:8080/"
        },
        "id": "JfUAYWKPc9wV",
        "outputId": "bfc735ae-9898-4b3a-d4e3-1d0d0c8c7980"
      },
      "execution_count": 14,
      "outputs": [
        {
          "output_type": "stream",
          "name": "stdout",
          "text": [
            "\n",
            "Logistic Regression Accuracy: 0.8936\n",
            "Classification Report (Logistic Regression):\n",
            "              precision    recall  f1-score   support\n",
            "\n",
            "           0       0.96      0.95      0.95       494\n",
            "           1       0.94      0.94      0.94       570\n",
            "           2       0.87      0.88      0.87       490\n",
            "           3       0.88      0.86      0.87       518\n",
            "           4       0.88      0.90      0.89       489\n",
            "           5       0.87      0.85      0.86       447\n",
            "           6       0.90      0.92      0.91       493\n",
            "           7       0.91      0.90      0.90       519\n",
            "           8       0.86      0.84      0.85       478\n",
            "           9       0.87      0.88      0.87       502\n",
            "\n",
            "    accuracy                           0.89      5000\n",
            "   macro avg       0.89      0.89      0.89      5000\n",
            "weighted avg       0.89      0.89      0.89      5000\n",
            "\n"
          ]
        }
      ]
    },
    {
      "cell_type": "code",
      "source": [
        "mnb = MultinomialNB()\n",
        "mnb.fit(X_train, y_train)\n",
        "\n",
        "mnb_preds = mnb.predict(X_test)\n",
        "mnb_accuracy = accuracy_score(y_test, mnb_preds)\n",
        "print(\"\\nMultinomialNB Accuracy:\", mnb_accuracy)\n",
        "\n",
        "print(\"Classification Report (MultinomialNB):\")\n",
        "print(classification_report(y_test, mnb_preds))\n"
      ],
      "metadata": {
        "colab": {
          "base_uri": "https://localhost:8080/"
        },
        "id": "d8tBqjyHdElN",
        "outputId": "9e40cc1c-72d2-494d-df5c-08d82b942475"
      },
      "execution_count": 15,
      "outputs": [
        {
          "output_type": "stream",
          "name": "stdout",
          "text": [
            "\n",
            "MultinomialNB Accuracy: 0.823\n",
            "Classification Report (MultinomialNB):\n",
            "              precision    recall  f1-score   support\n",
            "\n",
            "           0       0.92      0.92      0.92       494\n",
            "           1       0.89      0.92      0.90       570\n",
            "           2       0.87      0.85      0.86       490\n",
            "           3       0.75      0.81      0.78       518\n",
            "           4       0.82      0.76      0.79       489\n",
            "           5       0.84      0.62      0.71       447\n",
            "           6       0.89      0.91      0.90       493\n",
            "           7       0.94      0.83      0.88       519\n",
            "           8       0.68      0.74      0.71       478\n",
            "           9       0.68      0.82      0.75       502\n",
            "\n",
            "    accuracy                           0.82      5000\n",
            "   macro avg       0.83      0.82      0.82      5000\n",
            "weighted avg       0.83      0.82      0.82      5000\n",
            "\n"
          ]
        }
      ]
    },
    {
      "cell_type": "code",
      "source": [
        "from sklearn.preprocessing import label_binarize\n",
        "\n",
        "# Binarize the test labels (for multi-class AUC)\n",
        "y_test_bin = label_binarize(y_test, classes=range(10))\n",
        "\n",
        "# For logistic regression\n",
        "lr_probs = lr.predict_proba(X_test_scaled)  # shape: [n_samples, 10 classes]\n",
        "# Compute AUC\n",
        "lr_auc = roc_auc_score(y_test_bin, lr_probs, average=\"macro\", multi_class=\"ovr\")\n",
        "print(\"Logistic Regression AUC:\", lr_auc)\n",
        "\n",
        "# MultinomialNB\n",
        "mnb_probs = mnb.predict_proba(X_test)\n",
        "mnb_auc = roc_auc_score(y_test_bin, mnb_probs, average=\"macro\", multi_class=\"ovr\")\n",
        "print(\"MultinomialNB AUC:\", mnb_auc)\n"
      ],
      "metadata": {
        "colab": {
          "base_uri": "https://localhost:8080/"
        },
        "id": "Ix5USz7LdJDf",
        "outputId": "c96c1407-d726-4585-fb7e-bafdc7a75652"
      },
      "execution_count": 18,
      "outputs": [
        {
          "output_type": "stream",
          "name": "stdout",
          "text": [
            "Logistic Regression AUC: 0.98908257486423\n",
            "MultinomialNB AUC: 0.9167793693614608\n"
          ]
        }
      ]
    },
    {
      "cell_type": "markdown",
      "source": [
        "## 6. MNIST Results & Observations\n",
        "\n",
        "- **Logistic Regression**:\n",
        "  - Accuracy ~ 89.36%\n",
        "  - Macro-average AUC ~ 0.989\n",
        "  - Strong performance across most digits, indicating robust discrimination in high-dimensional space.\n",
        "  \n",
        "- **MultinomialNB**:\n",
        "  - Accuracy ~ 82.3%\n",
        "  - Macro-average AUC ~ 0.917\n",
        "  - Lower than logistic regression, possibly due to the naive assumption of feature independence and the complex pixel data.\n",
        "\n",
        "**Interpretation**:\n",
        "- MNIST is far more challenging than the Penguins dataset (10 classes vs. 2; 784 features vs. 4).\n",
        "- Logistic Regression typically handles correlated features better and thus outperforms Naive Bayes on image data.\n",
        "- Naive Bayes can still achieve decent performance (~82%) but doesn’t match the discriminative approach here.\n"
      ],
      "metadata": {
        "id": "U2srq7eHgMax"
      }
    },
    {
      "cell_type": "markdown",
      "source": [
        "## 7. Comparison & Final Conclusion\n",
        "\n",
        "1. **Penguins (2-class, 4-feature)**:\n",
        "   - Both Naive Bayes and Logistic Regression achieve **100% accuracy** and **AUC=1.0** due to simple, well-separated features.\n",
        "   - Lift & Gain charts show perfect ranking, capturing all positives in the top decile.\n",
        "\n",
        "2. **MNIST (10-class, 784-feature)**:\n",
        "   - Logistic Regression outperforms Naive Bayes (89.36% vs. 82.3% accuracy, 0.989 vs. 0.917 macro-AUC).\n",
        "   - The assumption of conditional independence in Naive Bayes is less suitable for highly correlated pixel data.\n",
        "\n",
        "**Key Takeaways**:\n",
        "- **Generative vs. Discriminative**: On straightforward tasks (like two easily separable species), both can do perfectly well.\n",
        "- **Complex, High-Dimensional Data**: Discriminative models often handle correlated features better, giving logistic regression a performance edge on MNIST.\n",
        "- **Model Selection**: Simple tasks or specific feature distributions (e.g., text counts) can benefit from Naive Bayes speed and simplicity. Complex tasks with correlated features are often better served by logistic regression or other discriminative methods.\n",
        "\n",
        "**End of Assignment**.\n"
      ],
      "metadata": {
        "id": "7-oxPND8gcCg"
      }
    }
  ]
}